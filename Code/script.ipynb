{
 "cells": [
  {
   "cell_type": "markdown",
   "metadata": {},
   "source": [
    "### Importation des librairies"
   ]
  },
  {
   "cell_type": "code",
   "execution_count": 54,
   "metadata": {},
   "outputs": [],
   "source": [
    "from pyspark import SparkContext\n",
    "from pyspark.sql import SparkSession\n",
    "from pyspark.sql import functions as F"
   ]
  },
  {
   "cell_type": "markdown",
   "metadata": {},
   "source": [
    "### Instanciation de la spark session"
   ]
  },
  {
   "cell_type": "code",
   "execution_count": 55,
   "metadata": {},
   "outputs": [],
   "source": [
    "spark = SparkSession.builder.master(\"local\").appName(\"BDA-SQL\").getOrCreate()"
   ]
  },
  {
   "cell_type": "markdown",
   "metadata": {},
   "source": [
    "### Création des tables"
   ]
  },
  {
   "cell_type": "code",
   "execution_count": 56,
   "metadata": {},
   "outputs": [
    {
     "name": "stdout",
     "output_type": "stream",
     "text": [
      "+-----+-----------------+\n",
      "|  aid|             name|\n",
      "+-----+-----------------+\n",
      "|07890| Jean Paul Sartre|\n",
      "|05678|Pierre de Ronsard|\n",
      "+-----+-----------------+\n",
      "\n"
     ]
    }
   ],
   "source": [
    "l1 = [('07890', 'Jean Paul Sartre'), ('05678', 'Pierre de Ronsard')]\n",
    "rdd1 = spark.sparkContext.parallelize(l1)\n",
    "Author = rdd1.toDF(['aid', 'name'])\n",
    "Author.createOrReplaceTempView('AuthorSQL')\n",
    "Author.show()"
   ]
  },
  {
   "cell_type": "code",
   "execution_count": 57,
   "metadata": {},
   "outputs": [
    {
     "name": "stdout",
     "output_type": "stream",
     "text": [
      "+----+--------------------+-----------+\n",
      "| bid|               title|   category|\n",
      "+----+--------------------+-----------+\n",
      "|0001|L'existentialisme...|Philosophie|\n",
      "|0002|Huis clos. Suivi ...|Philosophie|\n",
      "|0003|Mignonne allons v...|      Poeme|\n",
      "|0004|          Les Amours|      Poème|\n",
      "+----+--------------------+-----------+\n",
      "\n"
     ]
    }
   ],
   "source": [
    "l2 = [('0001', \"L'existentialisme est un humanisme\", 'Philosophie'), \\\n",
    "      ('0002', 'Huis clos. Suivi de Les Mouches', 'Philosophie'), \\\n",
    "     ('0003', 'Mignonne allons voir si la rose', 'Poeme'), \\\n",
    "     ('0004', 'Les Amours', 'Poème')]\n",
    "rdd2 = spark.sparkContext.parallelize(l2)\n",
    "book = rdd2.toDF(['bid', 'title', 'category'])\n",
    "book.createOrReplaceTempView('bookSQL')\n",
    "book.show()"
   ]
  },
  {
   "cell_type": "code",
   "execution_count": 58,
   "metadata": {},
   "outputs": [
    {
     "name": "stdout",
     "output_type": "stream",
     "text": [
      "+---+-----+---------+\n",
      "|sid|sname|     dept|\n",
      "+---+-----+---------+\n",
      "|S15| toto|     Math|\n",
      "|S16| popo|      Eco|\n",
      "|S17| fofo|Mécanique|\n",
      "+---+-----+---------+\n",
      "\n"
     ]
    }
   ],
   "source": [
    "l3 = [('S15', 'toto', 'Math'), \\\n",
    "      ('S16', 'popo', 'Eco'), \\\n",
    "     ('S17', 'fofo', 'Mécanique')]\n",
    "rdd3 = spark.sparkContext.parallelize(l3)\n",
    "Student = rdd3.toDF(['sid', 'sname', 'dept'])\n",
    "Student.createOrReplaceTempView('StudentSQL')\n",
    "Student.show()"
   ]
  },
  {
   "cell_type": "code",
   "execution_count": 59,
   "metadata": {},
   "outputs": [
    {
     "name": "stdout",
     "output_type": "stream",
     "text": [
      "+-----+----+\n",
      "|  aid| bid|\n",
      "+-----+----+\n",
      "|07890|0001|\n",
      "|07890|0002|\n",
      "|05678|0003|\n",
      "|05678|0003|\n",
      "+-----+----+\n",
      "\n"
     ]
    }
   ],
   "source": [
    "l4 = [('07890', '0001'), \\\n",
    "      ('07890', '0002'), \\\n",
    "     ('05678', '0003'), \\\n",
    "     ('05678', '0003')]\n",
    "rdd4 = spark.sparkContext.parallelize(l4)\n",
    "write = rdd4.toDF(['aid', 'bid'])\n",
    "write.createOrReplaceTempView('writeSQL')\n",
    "write.show()"
   ]
  },
  {
   "cell_type": "code",
   "execution_count": 60,
   "metadata": {},
   "outputs": [
    {
     "name": "stdout",
     "output_type": "stream",
     "text": [
      "+---+----+-------------+-----------+\n",
      "|sid| bid|checkout_time|return_time|\n",
      "+---+----+-------------+-----------+\n",
      "|S15|0003|   02-01-2020| 01-02-2020|\n",
      "|S15|0002|   13-06-2020|       null|\n",
      "|S15|0001|   13-06-2020| 13-10-2020|\n",
      "|S16|0002|   24-01-2020| 24-01-2020|\n",
      "|S17|0001|   12-04-2020| 01-07-2020|\n",
      "+---+----+-------------+-----------+\n",
      "\n"
     ]
    }
   ],
   "source": [
    "l5 = [('S15', '0003', '02-01-2020', '01-02-2020'), \\\n",
    "      ('S15', '0002', '13-06-2020', 'null'), \\\n",
    "     ('S15', '0001', '13-06-2020', '13-10-2020'), \\\n",
    "     ('S16', '0002', '24-01-2020', '24-01-2020'), \\\n",
    "     ('S17', '0001', '12-04-2020', '01-07-2020')]\n",
    "rdd5 = spark.sparkContext.parallelize(l5)\n",
    "borrow = rdd5.toDF(['sid', 'bid', 'checkout_time', 'return_time'])\n",
    "borrow.createOrReplaceTempView('borrowSQL')\n",
    "borrow.show()"
   ]
  },
  {
   "cell_type": "markdown",
   "metadata": {},
   "source": [
    "### 1-Trouver les titres de tous les livres que l'étudiant sid='S15' a emprunté"
   ]
  },
  {
   "cell_type": "code",
   "execution_count": 61,
   "metadata": {},
   "outputs": [
    {
     "name": "stdout",
     "output_type": "stream",
     "text": [
      "+--------------------+\n",
      "|               title|\n",
      "+--------------------+\n",
      "|Huis clos. Suivi ...|\n",
      "|Mignonne allons v...|\n",
      "|L'existentialisme...|\n",
      "+--------------------+\n",
      "\n"
     ]
    }
   ],
   "source": [
    "# SQL\n",
    "spark.sql(\"\"\"select title\n",
    "            from bookSQL\n",
    "            join borrowSQL\n",
    "            on bookSQL.bid = borrowSQL.bid\n",
    "            where borrowSQL.sid = 'S15' \"\"\").show()"
   ]
  },
  {
   "cell_type": "code",
   "execution_count": 62,
   "metadata": {},
   "outputs": [
    {
     "name": "stdout",
     "output_type": "stream",
     "text": [
      "+--------------------+\n",
      "|               title|\n",
      "+--------------------+\n",
      "|Huis clos. Suivi ...|\n",
      "|Mignonne allons v...|\n",
      "|L'existentialisme...|\n",
      "+--------------------+\n",
      "\n"
     ]
    }
   ],
   "source": [
    "# DSL\n",
    "book.join(borrow, 'bid')\\\n",
    "    .select('title')\\\n",
    "    .filter(F.col('sid')=='S15')\\\n",
    "    .show()"
   ]
  },
  {
   "cell_type": "markdown",
   "metadata": {},
   "source": [
    "### 2-Trouver les titres de tous les livres qui n'ont jamais été empruntés par un étudiant"
   ]
  },
  {
   "cell_type": "code",
   "execution_count": 63,
   "metadata": {},
   "outputs": [
    {
     "name": "stdout",
     "output_type": "stream",
     "text": [
      "+----------+\n",
      "|     title|\n",
      "+----------+\n",
      "|Les Amours|\n",
      "+----------+\n",
      "\n"
     ]
    }
   ],
   "source": [
    "# SQL\n",
    "spark.sql(\"\"\"select title \n",
    "            from bookSQL\n",
    "            left join borrowSQL\n",
    "            on bookSQL.bid = borrowSQL.bid\n",
    "            where borrowSQL.bid is null\"\"\").show()"
   ]
  },
  {
   "cell_type": "code",
   "execution_count": 64,
   "metadata": {},
   "outputs": [
    {
     "name": "stdout",
     "output_type": "stream",
     "text": [
      "+----------+\n",
      "|     title|\n",
      "+----------+\n",
      "|Les Amours|\n",
      "+----------+\n",
      "\n"
     ]
    }
   ],
   "source": [
    "# DSL\n",
    "book.join(borrow, book.bid==borrow.bid, how='left')\\\n",
    "    .select('title')\\\n",
    "    .filter(F.col('sid').isNull())\\\n",
    "    .show()"
   ]
  },
  {
   "cell_type": "markdown",
   "metadata": {},
   "source": [
    "### 3-Trouver tous les étudiants qui ont emprunté le livre bid=’0002’"
   ]
  },
  {
   "cell_type": "code",
   "execution_count": 65,
   "metadata": {},
   "outputs": [
    {
     "name": "stdout",
     "output_type": "stream",
     "text": [
      "+-----+\n",
      "|sname|\n",
      "+-----+\n",
      "| popo|\n",
      "| toto|\n",
      "+-----+\n",
      "\n"
     ]
    }
   ],
   "source": [
    "# SQL\n",
    "spark.sql(\"\"\"select sname\n",
    "            from StudentSQL\n",
    "            join borrowSQL\n",
    "            on StudentSQL.sid = borrowSQL.sid\n",
    "            where borrowSQL.bid = '0002' \"\"\").show()"
   ]
  },
  {
   "cell_type": "code",
   "execution_count": 66,
   "metadata": {},
   "outputs": [
    {
     "name": "stdout",
     "output_type": "stream",
     "text": [
      "+-----+\n",
      "|sname|\n",
      "+-----+\n",
      "| popo|\n",
      "| toto|\n",
      "+-----+\n",
      "\n"
     ]
    }
   ],
   "source": [
    "# DSL\n",
    "Student.join(borrow, 'sid')\\\n",
    "    .select('sname')\\\n",
    "    .filter(F.col('bid')=='0002')\\\n",
    "    .show()"
   ]
  },
  {
   "cell_type": "markdown",
   "metadata": {},
   "source": [
    "### 4-Trouver les titres de tous les livres empruntés par des étudiants en Mécanique"
   ]
  },
  {
   "cell_type": "code",
   "execution_count": 67,
   "metadata": {},
   "outputs": [
    {
     "name": "stdout",
     "output_type": "stream",
     "text": [
      "+--------------------+\n",
      "|               title|\n",
      "+--------------------+\n",
      "|L'existentialisme...|\n",
      "+--------------------+\n",
      "\n"
     ]
    }
   ],
   "source": [
    "# SQL\n",
    "spark.sql(\"\"\"select title\n",
    "            from bookSQL\n",
    "            join borrowSQL\n",
    "            on bookSQL.bid = borrowSQL.bid\n",
    "            join StudentSQL\n",
    "            on borrowSQL.sid = StudentSQL.sid\n",
    "            where StudentSQL.dept = 'Mécanique' \"\"\").show()"
   ]
  },
  {
   "cell_type": "code",
   "execution_count": 68,
   "metadata": {},
   "outputs": [
    {
     "name": "stdout",
     "output_type": "stream",
     "text": [
      "+--------------------+\n",
      "|               title|\n",
      "+--------------------+\n",
      "|L'existentialisme...|\n",
      "+--------------------+\n",
      "\n"
     ]
    }
   ],
   "source": [
    "# DSL\n",
    "book.join(borrow, 'bid')\\\n",
    "    .join(Student, 'sid')\\\n",
    "    .select('title')\\\n",
    "    .filter(F.col('dept')=='Mécanique')\\\n",
    "    .show()"
   ]
  },
  {
   "cell_type": "markdown",
   "metadata": {},
   "source": [
    "### 5-Trouver les étudiants qui n’ont jamais emprunté de livre"
   ]
  },
  {
   "cell_type": "code",
   "execution_count": 69,
   "metadata": {},
   "outputs": [
    {
     "name": "stdout",
     "output_type": "stream",
     "text": [
      "+-----+\n",
      "|sname|\n",
      "+-----+\n",
      "+-----+\n",
      "\n"
     ]
    }
   ],
   "source": [
    "# SQL\n",
    "spark.sql(\"\"\"select sname\n",
    "            from StudentSQL\n",
    "            left join borrowSQL\n",
    "            on StudentSQL.sid = borrowSQL.sid\n",
    "            where borrowSQL.sid is null\"\"\").show()"
   ]
  },
  {
   "cell_type": "code",
   "execution_count": 70,
   "metadata": {},
   "outputs": [
    {
     "name": "stdout",
     "output_type": "stream",
     "text": [
      "+-----+\n",
      "|sname|\n",
      "+-----+\n",
      "+-----+\n",
      "\n"
     ]
    }
   ],
   "source": [
    "# DSL\n",
    "Student.join(borrow, Student.sid==borrow.sid, how='left')\\\n",
    "    .select('sname')\\\n",
    "    .filter(F.col('sname').isNull())\\\n",
    "    .show()"
   ]
  },
  {
   "cell_type": "markdown",
   "metadata": {},
   "source": [
    "### 6- Déterminer l’auteur qui a écrit le plus de livres"
   ]
  },
  {
   "cell_type": "code",
   "execution_count": 114,
   "metadata": {},
   "outputs": [
    {
     "name": "stdout",
     "output_type": "stream",
     "text": [
      "+-----------------+------+\n",
      "|           auteur|nombre|\n",
      "+-----------------+------+\n",
      "| Jean Paul Sartre|     2|\n",
      "|Pierre de Ronsard|     1|\n",
      "+-----------------+------+\n",
      "\n"
     ]
    }
   ],
   "source": [
    "# SQL \n",
    "spark.sql(\"\"\"select first(name) as auteur, count(distinct bid) as nombre\n",
    "            from AuthorSQL\n",
    "            join writeSQL\n",
    "            on AuthorSQL.aid = writeSQL.aid\n",
    "            group by name\"\"\").show()"
   ]
  },
  {
   "cell_type": "code",
   "execution_count": 109,
   "metadata": {},
   "outputs": [
    {
     "name": "stdout",
     "output_type": "stream",
     "text": [
      "+----------------+------+\n",
      "|          auteur|nombre|\n",
      "+----------------+------+\n",
      "|Jean Paul Sartre|     2|\n",
      "+----------------+------+\n",
      "\n"
     ]
    }
   ],
   "source": [
    "# DSL\n",
    "Author.join(write, \"aid\") \\\n",
    "    .distinct() \\\n",
    "    .groupBy(\"name\") \\\n",
    "    .agg(F.count(\"bid\").alias(\"nombre\")) \\\n",
    "    .sort(F.col(\"nombre\").desc()) \\\n",
    "    .select(F.first(\"name\").alias(\"auteur\"),F.first(\"nombre\").alias(\"nombre\")) \\\n",
    "    .show()"
   ]
  },
  {
   "cell_type": "markdown",
   "metadata": {},
   "source": [
    "### 7- Déterminer les personnes qui n’ont pas encore rendu les livres"
   ]
  },
  {
   "cell_type": "code",
   "execution_count": 73,
   "metadata": {},
   "outputs": [
    {
     "name": "stdout",
     "output_type": "stream",
     "text": [
      "+-----+\n",
      "|sname|\n",
      "+-----+\n",
      "| toto|\n",
      "+-----+\n",
      "\n"
     ]
    }
   ],
   "source": [
    "# SQL\n",
    "spark.sql(\"\"\"select sname\n",
    "            from StudentSQL\n",
    "            join borrowSQL\n",
    "            on StudentSQL.sid = borrowSQL.sid\n",
    "            where borrowsql.return_time = 'null' \"\"\").show()"
   ]
  },
  {
   "cell_type": "code",
   "execution_count": 74,
   "metadata": {},
   "outputs": [
    {
     "name": "stdout",
     "output_type": "stream",
     "text": [
      "+-----+\n",
      "|sname|\n",
      "+-----+\n",
      "| toto|\n",
      "+-----+\n",
      "\n"
     ]
    }
   ],
   "source": [
    "# DSL\n",
    "Student.join(borrow, 'sid')\\\n",
    "    .select('sname')\\\n",
    "    .filter(F.col('return_time')=='null')\\\n",
    "    .show()"
   ]
  },
  {
   "cell_type": "markdown",
   "metadata": {},
   "source": [
    "### 8- Créer une nouvelle colonne dans la table borrow qui prend la valeur 1, si la durée d'emprunt est supérieur à 3 mois,  sinon 0.  (utiliser la fonction spark to_date) par la suite faire un export des données en CSV"
   ]
  },
  {
   "cell_type": "code",
   "execution_count": 104,
   "metadata": {},
   "outputs": [],
   "source": [
    "borrow.withColumn(\"check_to_date\", F.to_date(F.col(\"checkout_time\"), \"dd-MM-yyyy\"))\\\n",
    "    .withColumn(\"ret_to_date\", F.to_date(F.col(\"return_time\"), \"dd-MM-yyyy\"))\\\n",
    "    .withColumn(\"Duree\", F.datediff(F.col(\"ret_to_date\"), F.col(\"check_to_date\")))\\\n",
    "    .withColumn(\"3mois+\", (F.when(F.col(\"Duree\")>=90, 1).otherwise(0)))\\\n",
    "    .select(\"sid\", \"bid\", \"checkout_time\", \"return_time\", \"3mois+\")\\\n",
    "    .write.csv(\"../Data\")"
   ]
  },
  {
   "cell_type": "markdown",
   "metadata": {},
   "source": [
    "### 9-déterminer les livres qui n’ont jamais été empruntés"
   ]
  },
  {
   "cell_type": "code",
   "execution_count": 75,
   "metadata": {},
   "outputs": [
    {
     "name": "stdout",
     "output_type": "stream",
     "text": [
      "+----------+\n",
      "|     title|\n",
      "+----------+\n",
      "|Les Amours|\n",
      "+----------+\n",
      "\n"
     ]
    }
   ],
   "source": [
    "# SQL\n",
    "spark.sql(\"\"\"select title\n",
    "            from bookSQL\n",
    "            left join borrowSQL\n",
    "            on bookSQL.bid = borrowSQL.bid\n",
    "            where borrowSQL.bid is null\"\"\").show()"
   ]
  },
  {
   "cell_type": "code",
   "execution_count": 76,
   "metadata": {},
   "outputs": [
    {
     "name": "stdout",
     "output_type": "stream",
     "text": [
      "+----------+\n",
      "|     title|\n",
      "+----------+\n",
      "|Les Amours|\n",
      "+----------+\n",
      "\n"
     ]
    }
   ],
   "source": [
    "# DSL\n",
    "book.join(borrow, book.bid==borrow.bid, how='left')\\\n",
    "    .select('title')\\\n",
    "    .filter(F.col('sid').isNull())\\\n",
    "    .show()"
   ]
  },
  {
   "cell_type": "code",
   "execution_count": null,
   "metadata": {},
   "outputs": [],
   "source": []
  },
  {
   "cell_type": "code",
   "execution_count": null,
   "metadata": {},
   "outputs": [],
   "source": []
  },
  {
   "cell_type": "code",
   "execution_count": null,
   "metadata": {},
   "outputs": [],
   "source": []
  }
 ],
 "metadata": {
  "kernelspec": {
   "display_name": "Python 3",
   "language": "python",
   "name": "python3"
  },
  "language_info": {
   "codemirror_mode": {
    "name": "ipython",
    "version": 3
   },
   "file_extension": ".py",
   "mimetype": "text/x-python",
   "name": "python",
   "nbconvert_exporter": "python",
   "pygments_lexer": "ipython3",
   "version": "3.9.0"
  }
 },
 "nbformat": 4,
 "nbformat_minor": 4
}
